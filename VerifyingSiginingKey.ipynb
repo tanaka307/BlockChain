{
 "cells": [
  {
   "cell_type": "code",
   "execution_count": 1,
   "id": "31b151bd",
   "metadata": {},
   "outputs": [],
   "source": [
    "from ecdsa import SigningKey\n",
    "from ecdsa import VerifyingKey"
   ]
  },
  {
   "cell_type": "code",
   "execution_count": 2,
   "id": "95af0329",
   "metadata": {},
   "outputs": [],
   "source": [
    "from ecdsa import SECP256k1\n",
    "from ecdsa import NIST256p"
   ]
  },
  {
   "cell_type": "code",
   "execution_count": 14,
   "id": "87d052a6",
   "metadata": {},
   "outputs": [
    {
     "name": "stdout",
     "output_type": "stream",
     "text": [
      "<ecdsa.keys.SigningKey object at 0x0000022CB0374A08>\n"
     ]
    }
   ],
   "source": [
    "secret_key = SigningKey.generate(curve=NIST256p)\n",
    "print(secret_key)"
   ]
  },
  {
   "cell_type": "code",
   "execution_count": 15,
   "id": "309a1190",
   "metadata": {},
   "outputs": [
    {
     "name": "stdout",
     "output_type": "stream",
     "text": [
      "<ecdsa.keys.VerifyingKey object at 0x0000022CB0471BC8>\n"
     ]
    }
   ],
   "source": [
    "public_key = secret_key.verifying_key\n",
    "print(public_key)"
   ]
  },
  {
   "cell_type": "code",
   "execution_count": 16,
   "id": "fbbdbb2a",
   "metadata": {},
   "outputs": [
    {
     "name": "stdout",
     "output_type": "stream",
     "text": [
      "b'\\x1f\\xc4\\xb4>8\\x97\\t\\xa8\\x08J\\xbd\\x91\\x19\\xdc\\xff\\x0e\\xb6\\xf6\\x0f\\xf5\\x9b\\xf99\\xfa\\x82;b\\n\\x1c\\xad\\x93\\x14'\n",
      "b'\\xff\\xe91\\xd8\\x08\\x19\\x8f\\xa5\\xd2\\x93\\xcc\\x87l\\x85i\\x96\\x1d\\xfb.\\n4Q8\\x10$O$\\xd3\\x0cQ\\xeb\\xd0\\x14\\xa6i\\xf7E\\x96\\x17\\xd7m\\x007\\xcd\\xfb\\xed\\xe6\\xceg\\xdd\\x15\\xa6\\r\\xec\\xb3h5q\\x97\\xac\\xcc\\xab\\x81\\x18'\n"
     ]
    }
   ],
   "source": [
    "secret_key_byte = secret_key.to_string()\n",
    "public_key_byte = public_key.to_string()\n",
    "print(secret_key_byte)\n",
    "print(public_key_byte)"
   ]
  },
  {
   "cell_type": "code",
   "execution_count": 17,
   "id": "ba6decd2",
   "metadata": {},
   "outputs": [
    {
     "name": "stdout",
     "output_type": "stream",
     "text": [
      "1fc4b43e389709a8084abd9119dcff0eb6f60ff59bf939fa823b620a1cad9314\n",
      "ffe931d808198fa5d293cc876c8569961dfb2e0a34513810244f24d30c51ebd014a669f7459617d76d0037cdfbede6ce67dd15a60decb368357197acccab8118\n"
     ]
    }
   ],
   "source": [
    "secret_key_str = secret_key_byte.hex()\n",
    "public_key_str = public_key_byte.hex()\n",
    "print(secret_key_str)\n",
    "print(public_key_str)"
   ]
  },
  {
   "cell_type": "code",
   "execution_count": 18,
   "id": "86e924b7",
   "metadata": {},
   "outputs": [
    {
     "name": "stdout",
     "output_type": "stream",
     "text": [
      "<ecdsa.keys.SigningKey object at 0x0000022CB03B0288>\n",
      "<ecdsa.keys.VerifyingKey object at 0x0000022CB03B71C8>\n"
     ]
    }
   ],
   "source": [
    "secret_key = SigningKey.from_string(secret_key_byte, curve=NIST256p)\n",
    "public_key = VerifyingKey.from_string(public_key_byte, curve=NIST256p)\n",
    "print(secret_key)\n",
    "print(public_key)"
   ]
  },
  {
   "cell_type": "code",
   "execution_count": 19,
   "id": "d50924af",
   "metadata": {},
   "outputs": [
    {
     "name": "stdout",
     "output_type": "stream",
     "text": [
      "b'\\xe7\\xa7\\x81\\xe3\\x81\\xaf\\xe3\\x82\\xa2\\xe3\\x82\\xa4\\xe3\\x82\\xa2\\xe3\\x83\\xb3\\xe3\\x83\\x9e\\xe3\\x83\\xb3\\xe3\\x81\\xa7\\xe3\\x81\\x99'\n"
     ]
    }
   ],
   "source": [
    "data = \"私はアイアンマンです\"\n",
    "data_bytes = bytes(data, encoding = \"utf-8\")\n",
    "print(data_bytes)"
   ]
  },
  {
   "cell_type": "code",
   "execution_count": 20,
   "id": "548ed849",
   "metadata": {},
   "outputs": [
    {
     "name": "stdout",
     "output_type": "stream",
     "text": [
      "b'N\\r\\xe0*&\\xa2\\x83\\xa2\\x1f\\x83\\xac\\xd3\\xb1\\xc7L\\xd9f \\x05\\xf8-6\\x17V|\\x1fE\\x0f\\x0f,\\x05\\x95\\xd3v\\xf0\\xf5\\x81\\xa1\\xca\\xa4a\\xd2]\\x14\\x98\\x01y\\xf0Z\\xf8\\xa2;m\\xe2\\x9foB\\x81\\xf4?\\x02\\xb9}C'\n"
     ]
    }
   ],
   "source": [
    "signature = secret_key.sign(data_bytes)\n",
    "print(signature)"
   ]
  },
  {
   "cell_type": "code",
   "execution_count": 21,
   "id": "20ae6756",
   "metadata": {},
   "outputs": [
    {
     "data": {
      "text/plain": [
       "True"
      ]
     },
     "execution_count": 21,
     "metadata": {},
     "output_type": "execute_result"
    }
   ],
   "source": [
    "public_key.verify(signature, data_bytes)"
   ]
  },
  {
   "cell_type": "code",
   "execution_count": 26,
   "id": "64e75fac",
   "metadata": {},
   "outputs": [
    {
     "ename": "BadSignatureError",
     "evalue": "",
     "output_type": "error",
     "traceback": [
      "\u001b[1;31m---------------------------------------------------------------------------\u001b[0m",
      "\u001b[1;31mBadSignatureError\u001b[0m                         Traceback (most recent call last)",
      "\u001b[1;32m~\\AppData\\Local\\Temp\\ipykernel_33828\\3512511595.py\u001b[0m in \u001b[0;36m<module>\u001b[1;34m\u001b[0m\n\u001b[0;32m      1\u001b[0m \u001b[0mchanged_data\u001b[0m \u001b[1;33m=\u001b[0m \u001b[1;34m\"私はアンパンマンです\"\u001b[0m\u001b[1;33m\u001b[0m\u001b[1;33m\u001b[0m\u001b[0m\n\u001b[0;32m      2\u001b[0m \u001b[0mchanged_data_bytes\u001b[0m \u001b[1;33m=\u001b[0m \u001b[0mbytes\u001b[0m\u001b[1;33m(\u001b[0m\u001b[0mchanged_data\u001b[0m\u001b[1;33m,\u001b[0m \u001b[0mencoding\u001b[0m \u001b[1;33m=\u001b[0m \u001b[1;34m\"utf-8\"\u001b[0m\u001b[1;33m)\u001b[0m\u001b[1;33m\u001b[0m\u001b[1;33m\u001b[0m\u001b[0m\n\u001b[1;32m----> 3\u001b[1;33m \u001b[0mpublic_key\u001b[0m\u001b[1;33m.\u001b[0m\u001b[0mverify\u001b[0m\u001b[1;33m(\u001b[0m\u001b[0msignature\u001b[0m\u001b[1;33m,\u001b[0m \u001b[0mchanged_data_bytes\u001b[0m\u001b[1;33m)\u001b[0m\u001b[1;33m\u001b[0m\u001b[1;33m\u001b[0m\u001b[0m\n\u001b[0m",
      "\u001b[1;32m~\\anaconda3\\envs\\python_blockChain202204\\lib\\site-packages\\ecdsa\\keys.py\u001b[0m in \u001b[0;36mverify\u001b[1;34m(self, signature, data, hashfunc, sigdecode)\u001b[0m\n\u001b[0;32m     99\u001b[0m         \u001b[0mhashfunc\u001b[0m \u001b[1;33m=\u001b[0m \u001b[0mhashfunc\u001b[0m \u001b[1;32mor\u001b[0m \u001b[0mself\u001b[0m\u001b[1;33m.\u001b[0m\u001b[0mdefault_hashfunc\u001b[0m\u001b[1;33m\u001b[0m\u001b[1;33m\u001b[0m\u001b[0m\n\u001b[0;32m    100\u001b[0m         \u001b[0mdigest\u001b[0m \u001b[1;33m=\u001b[0m \u001b[0mhashfunc\u001b[0m\u001b[1;33m(\u001b[0m\u001b[0mdata\u001b[0m\u001b[1;33m)\u001b[0m\u001b[1;33m.\u001b[0m\u001b[0mdigest\u001b[0m\u001b[1;33m(\u001b[0m\u001b[1;33m)\u001b[0m\u001b[1;33m\u001b[0m\u001b[1;33m\u001b[0m\u001b[0m\n\u001b[1;32m--> 101\u001b[1;33m         \u001b[1;32mreturn\u001b[0m \u001b[0mself\u001b[0m\u001b[1;33m.\u001b[0m\u001b[0mverify_digest\u001b[0m\u001b[1;33m(\u001b[0m\u001b[0msignature\u001b[0m\u001b[1;33m,\u001b[0m \u001b[0mdigest\u001b[0m\u001b[1;33m,\u001b[0m \u001b[0msigdecode\u001b[0m\u001b[1;33m)\u001b[0m\u001b[1;33m\u001b[0m\u001b[1;33m\u001b[0m\u001b[0m\n\u001b[0m\u001b[0;32m    102\u001b[0m \u001b[1;33m\u001b[0m\u001b[0m\n\u001b[0;32m    103\u001b[0m     \u001b[1;32mdef\u001b[0m \u001b[0mverify_digest\u001b[0m\u001b[1;33m(\u001b[0m\u001b[0mself\u001b[0m\u001b[1;33m,\u001b[0m \u001b[0msignature\u001b[0m\u001b[1;33m,\u001b[0m \u001b[0mdigest\u001b[0m\u001b[1;33m,\u001b[0m \u001b[0msigdecode\u001b[0m\u001b[1;33m=\u001b[0m\u001b[0msigdecode_string\u001b[0m\u001b[1;33m)\u001b[0m\u001b[1;33m:\u001b[0m\u001b[1;33m\u001b[0m\u001b[1;33m\u001b[0m\u001b[0m\n",
      "\u001b[1;32m~\\anaconda3\\envs\\python_blockChain202204\\lib\\site-packages\\ecdsa\\keys.py\u001b[0m in \u001b[0;36mverify_digest\u001b[1;34m(self, signature, digest, sigdecode)\u001b[0m\n\u001b[0;32m    111\u001b[0m         \u001b[1;32mif\u001b[0m \u001b[0mself\u001b[0m\u001b[1;33m.\u001b[0m\u001b[0mpubkey\u001b[0m\u001b[1;33m.\u001b[0m\u001b[0mverifies\u001b[0m\u001b[1;33m(\u001b[0m\u001b[0mnumber\u001b[0m\u001b[1;33m,\u001b[0m \u001b[0msig\u001b[0m\u001b[1;33m)\u001b[0m\u001b[1;33m:\u001b[0m\u001b[1;33m\u001b[0m\u001b[1;33m\u001b[0m\u001b[0m\n\u001b[0;32m    112\u001b[0m             \u001b[1;32mreturn\u001b[0m \u001b[1;32mTrue\u001b[0m\u001b[1;33m\u001b[0m\u001b[1;33m\u001b[0m\u001b[0m\n\u001b[1;32m--> 113\u001b[1;33m         \u001b[1;32mraise\u001b[0m \u001b[0mBadSignatureError\u001b[0m\u001b[1;33m\u001b[0m\u001b[1;33m\u001b[0m\u001b[0m\n\u001b[0m\u001b[0;32m    114\u001b[0m \u001b[1;33m\u001b[0m\u001b[0m\n\u001b[0;32m    115\u001b[0m \u001b[1;32mclass\u001b[0m \u001b[0mSigningKey\u001b[0m\u001b[1;33m:\u001b[0m\u001b[1;33m\u001b[0m\u001b[1;33m\u001b[0m\u001b[0m\n",
      "\u001b[1;31mBadSignatureError\u001b[0m: "
     ]
    }
   ],
   "source": [
    "changed_data = \"私はアンパンマンです\"\n",
    "changed_data_bytes = bytes(changed_data, encoding = \"utf-8\")\n",
    "public_key.verify(signature, changed_data_bytes)"
   ]
  },
  {
   "cell_type": "code",
   "execution_count": 25,
   "id": "8f118101",
   "metadata": {},
   "outputs": [
    {
     "ename": "BadSignatureError",
     "evalue": "",
     "output_type": "error",
     "traceback": [
      "\u001b[1;31m---------------------------------------------------------------------------\u001b[0m",
      "\u001b[1;31mBadSignatureError\u001b[0m                         Traceback (most recent call last)",
      "\u001b[1;32m~\\AppData\\Local\\Temp\\ipykernel_33828\\2419399534.py\u001b[0m in \u001b[0;36m<module>\u001b[1;34m\u001b[0m\n\u001b[1;32m----> 1\u001b[1;33m \u001b[0mpublic_key\u001b[0m\u001b[1;33m.\u001b[0m\u001b[0mverify\u001b[0m\u001b[1;33m(\u001b[0m\u001b[0msignature\u001b[0m\u001b[1;33m,\u001b[0m \u001b[0mchanged_data_bytes\u001b[0m\u001b[1;33m)\u001b[0m\u001b[1;33m\u001b[0m\u001b[1;33m\u001b[0m\u001b[0m\n\u001b[0m",
      "\u001b[1;32m~\\anaconda3\\envs\\python_blockChain202204\\lib\\site-packages\\ecdsa\\keys.py\u001b[0m in \u001b[0;36mverify\u001b[1;34m(self, signature, data, hashfunc, sigdecode)\u001b[0m\n\u001b[0;32m     99\u001b[0m         \u001b[0mhashfunc\u001b[0m \u001b[1;33m=\u001b[0m \u001b[0mhashfunc\u001b[0m \u001b[1;32mor\u001b[0m \u001b[0mself\u001b[0m\u001b[1;33m.\u001b[0m\u001b[0mdefault_hashfunc\u001b[0m\u001b[1;33m\u001b[0m\u001b[1;33m\u001b[0m\u001b[0m\n\u001b[0;32m    100\u001b[0m         \u001b[0mdigest\u001b[0m \u001b[1;33m=\u001b[0m \u001b[0mhashfunc\u001b[0m\u001b[1;33m(\u001b[0m\u001b[0mdata\u001b[0m\u001b[1;33m)\u001b[0m\u001b[1;33m.\u001b[0m\u001b[0mdigest\u001b[0m\u001b[1;33m(\u001b[0m\u001b[1;33m)\u001b[0m\u001b[1;33m\u001b[0m\u001b[1;33m\u001b[0m\u001b[0m\n\u001b[1;32m--> 101\u001b[1;33m         \u001b[1;32mreturn\u001b[0m \u001b[0mself\u001b[0m\u001b[1;33m.\u001b[0m\u001b[0mverify_digest\u001b[0m\u001b[1;33m(\u001b[0m\u001b[0msignature\u001b[0m\u001b[1;33m,\u001b[0m \u001b[0mdigest\u001b[0m\u001b[1;33m,\u001b[0m \u001b[0msigdecode\u001b[0m\u001b[1;33m)\u001b[0m\u001b[1;33m\u001b[0m\u001b[1;33m\u001b[0m\u001b[0m\n\u001b[0m\u001b[0;32m    102\u001b[0m \u001b[1;33m\u001b[0m\u001b[0m\n\u001b[0;32m    103\u001b[0m     \u001b[1;32mdef\u001b[0m \u001b[0mverify_digest\u001b[0m\u001b[1;33m(\u001b[0m\u001b[0mself\u001b[0m\u001b[1;33m,\u001b[0m \u001b[0msignature\u001b[0m\u001b[1;33m,\u001b[0m \u001b[0mdigest\u001b[0m\u001b[1;33m,\u001b[0m \u001b[0msigdecode\u001b[0m\u001b[1;33m=\u001b[0m\u001b[0msigdecode_string\u001b[0m\u001b[1;33m)\u001b[0m\u001b[1;33m:\u001b[0m\u001b[1;33m\u001b[0m\u001b[1;33m\u001b[0m\u001b[0m\n",
      "\u001b[1;32m~\\anaconda3\\envs\\python_blockChain202204\\lib\\site-packages\\ecdsa\\keys.py\u001b[0m in \u001b[0;36mverify_digest\u001b[1;34m(self, signature, digest, sigdecode)\u001b[0m\n\u001b[0;32m    111\u001b[0m         \u001b[1;32mif\u001b[0m \u001b[0mself\u001b[0m\u001b[1;33m.\u001b[0m\u001b[0mpubkey\u001b[0m\u001b[1;33m.\u001b[0m\u001b[0mverifies\u001b[0m\u001b[1;33m(\u001b[0m\u001b[0mnumber\u001b[0m\u001b[1;33m,\u001b[0m \u001b[0msig\u001b[0m\u001b[1;33m)\u001b[0m\u001b[1;33m:\u001b[0m\u001b[1;33m\u001b[0m\u001b[1;33m\u001b[0m\u001b[0m\n\u001b[0;32m    112\u001b[0m             \u001b[1;32mreturn\u001b[0m \u001b[1;32mTrue\u001b[0m\u001b[1;33m\u001b[0m\u001b[1;33m\u001b[0m\u001b[0m\n\u001b[1;32m--> 113\u001b[1;33m         \u001b[1;32mraise\u001b[0m \u001b[0mBadSignatureError\u001b[0m\u001b[1;33m\u001b[0m\u001b[1;33m\u001b[0m\u001b[0m\n\u001b[0m\u001b[0;32m    114\u001b[0m \u001b[1;33m\u001b[0m\u001b[0m\n\u001b[0;32m    115\u001b[0m \u001b[1;32mclass\u001b[0m \u001b[0mSigningKey\u001b[0m\u001b[1;33m:\u001b[0m\u001b[1;33m\u001b[0m\u001b[1;33m\u001b[0m\u001b[0m\n",
      "\u001b[1;31mBadSignatureError\u001b[0m: "
     ]
    }
   ],
   "source": []
  },
  {
   "cell_type": "code",
   "execution_count": null,
   "id": "738e6f86",
   "metadata": {},
   "outputs": [],
   "source": []
  }
 ],
 "metadata": {
  "kernelspec": {
   "display_name": "Python 3 (ipykernel)",
   "language": "python",
   "name": "python3"
  },
  "language_info": {
   "codemirror_mode": {
    "name": "ipython",
    "version": 3
   },
   "file_extension": ".py",
   "mimetype": "text/x-python",
   "name": "python",
   "nbconvert_exporter": "python",
   "pygments_lexer": "ipython3",
   "version": "3.7.13"
  }
 },
 "nbformat": 4,
 "nbformat_minor": 5
}
